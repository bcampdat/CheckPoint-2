{
 "cells": [
  {
   "cell_type": "markdown",
   "metadata": {},
   "source": [
    "                                Preguntas Teoricas"
   ]
  },
  {
   "cell_type": "markdown",
   "metadata": {},
   "source": [
    "1. Cuatro valores que se pueden usar con la propiedad justify-content.\n",
    "\n",
    "        flex-star, flex-end, space-between, center."
   ]
  },
  {
   "cell_type": "markdown",
   "metadata": {},
   "source": [
    "2. ¿Cuál es un objetivo primordial?\n",
    "\n",
    "        El fin  con el que se crea (para ver, para vender ...)."
   ]
  },
  {
   "cell_type": "markdown",
   "metadata": {},
   "source": [
    "3. ¿Qué son los wireframes de baja fidelidad?\n",
    "\n",
    "        Un esbozo sencillo de como se veria nuesta app"
   ]
  },
  {
   "cell_type": "markdown",
   "metadata": {},
   "source": [
    "4. ¿Qué es Git? \n",
    "\n",
    "        Un lugar donde se almacena los proyectos que creas y compartirlos con otros desarrolladores, ademas permite el trabajo en colaboración y no es necesario estar permanentemente conectado solo para compartir."
   ]
  },
  {
   "cell_type": "markdown",
   "metadata": {},
   "source": [
    "5. ¿Qué es un sitemap?\n",
    "\n",
    "        Es un dibujo en el que se indica las acciones que va a tener la app y como se relacionan entre ellas, mediante flechas ( como un esquema de todas las pantallas que vamos a tener)."
   ]
  },
  {
   "cell_type": "markdown",
   "metadata": {},
   "source": [
    "6. Asigne un nombre a tres valores que se pueden utilizar con flex-direction, incluido el valor predeterminado que utiliza flexbox cuando se crea.\n",
    "\n",
    "        Por defecto es en linea ( row ), lo podemos modificar a columna (column)\n",
    "\n"
   ]
  }
 ],
 "metadata": {
  "language_info": {
   "name": "python"
  }
 },
 "nbformat": 4,
 "nbformat_minor": 2
}
