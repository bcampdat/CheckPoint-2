{
 "cells": [
  {
   "cell_type": "markdown",
   "metadata": {},
   "source": [
    "Asignación de UI/UX de M1C2\n",
    "\n",
    "Durante este módulo, se le presentó el desarrollo de UI/UX. UI/UX se utiliza para garantizar que las aplicaciones sean accesibles y fáciles de entender. Le han presentado una variedad de herramientas, como mapas de sitio, estructuras alámbricas y combinaciones de colores, que ayudan a los desarrolladores cuando trabajan en interfaces y experiencias de usuario. Utilizará una variedad de esas herramientas durante esta tarea. Si no recuerdas cómo construir lo que se te pide, consulta los videos que explican cada concepto e intenta buscar ejemplos. Complete la siguiente tarea y comuníquese con la aplicación de soporte para que un mentor revise su trabajo. Si tiene alguna pregunta o necesita ayuda, comuníquese con nosotros para que podamos ayudarlo. Esta tarea debe completarse para aprobar esta sección del trabajo del curso.\n",
    " \n"
   ]
  },
  {
   "cell_type": "markdown",
   "metadata": {},
   "source": [
    "Tarea uno: \n",
    "\n",
    "    Haciendo referencia a esta imagen, crea una estructura alámbrica de baja fidelidad.\n",
    "\n",
    "Ejemplo:\n",
    "![TareaUno](./ejercicio2/TareaUno.png)\n"
   ]
  },
  {
   "cell_type": "markdown",
   "metadata": {},
   "source": [
    "desktop: 1024 x 640 px\n",
    "![wireframe.jpg](./ejercicio2/low-fidelity%20wireframe.jpg)"
   ]
  },
  {
   "cell_type": "markdown",
   "metadata": {},
   "source": [
    "Tarea dos: \n",
    "\n",
    "    Utilice uno de los siguientes sitios web y la herramienta de inspección para identificar 2 o 3 colores utilizados repetidamente como parte de la combinación de colores del sitio. Recuerda que como color se pueden incluir diferentes tonalidades de gris y negro.\n",
    "\n",
    "\n",
    "https://timmyomahony.com/ \n",
    "https://sebkay.com/ \n",
    "https://jonny.me/ \n",
    "https://jacekjeznach.com/ \n"
   ]
  },
  {
   "cell_type": "code",
   "execution_count": null,
   "metadata": {
    "vscode": {
     "languageId": "html"
    }
   },
   "outputs": [],
   "source": [
    "\n",
    "\n",
    "<style>\n",
    ".timmy{\n",
    "    color:#f0f0e8; /* body */\n",
    "    color:#000000; /* border */\n",
    "    color:#72645c; /* texto */\n",
    "}\n",
    "\n",
    ".sebkay{\n",
    "    color: #333333; /* body */\n",
    "    color:#5e5e5e; /* a */\n",
    "    color:#4b6cc1; /* link */\n",
    "}\n",
    ".jonny{\n",
    "    color: #58a6ff; /* link */\n",
    "    color:#39d353; /* elementos*/\n",
    "}\n",
    "/* .jacekjeznach{}  sin acceso a esta web */\n",
    "</style>\n",
    "\n"
   ]
  },
  {
   "cell_type": "markdown",
   "metadata": {},
   "source": [
    "Tarea tres: \n",
    "\n",
    "    Cree una historia de usuario haciendo referencia a uno de estos sitios web.\n",
    "    \n",
    "Gorjeohttps://twitter.com/home?lang=es\n",
    "YouTubehttps://www.youtube.com/\n",
    "Facebookhttps://www.facebook.com/ \n",
    "Googlehttps://www.google.com/"
   ]
  },
  {
   "cell_type": "markdown",
   "metadata": {},
   "source": [
    "![TareaTres](./ejercicio2/task3/twiter.PNG)"
   ]
  },
  {
   "cell_type": "markdown",
   "metadata": {},
   "source": [
    "![TareaTres](./ejercicio2/task3/Youtube.PNG) "
   ]
  },
  {
   "cell_type": "markdown",
   "metadata": {},
   "source": [
    "![TareaTres](./ejercicio2/task3/Facebook.PNG) "
   ]
  },
  {
   "cell_type": "markdown",
   "metadata": {},
   "source": [
    "![TareaTres](./ejercicio2/task3/Google.PNG) "
   ]
  },
  {
   "cell_type": "markdown",
   "metadata": {},
   "source": [
    "Tarea cuatro: \n",
    "\n",
    "    Identificar el objetivo principal de Facebook, Twitter, Google y Youtube."
   ]
  },
  {
   "cell_type": "markdown",
   "metadata": {},
   "source": [
    "Facebook: relaciones.\n",
    "Twiter: opiniones\n",
    "Google:  búsqueda.\n",
    "Youtube: visionado."
   ]
  }
 ],
 "metadata": {
  "language_info": {
   "name": "python"
  }
 },
 "nbformat": 4,
 "nbformat_minor": 2
}
