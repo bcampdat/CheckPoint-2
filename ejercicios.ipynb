{
 "cells": [
  {
   "cell_type": "markdown",
   "metadata": {},
   "source": [
    "Asignación de caja flexible M1C2\n",
    "\n",
    "Durante la segunda sección del Módulo 1, habrá revisado la muy útil herramienta Flexbox. Flexbox es otra herramienta útil que los desarrolladores pueden utilizar para controlar el comportamiento y el diseño de sus elementos HTML. La primera vez que usaste Flexbox fue en el curso Fundamentos de codificación. Ahora que ha revisado y aprendido más sobre Flexbox, ¡es hora de practicar! Utilizará HTML y CSS para completar esta tarea. Se espera que cree y edite archivos usando un editor de texto y que use una hoja de estilo externa. Complete la siguiente tarea y comuníquese con la aplicación de soporte para que un mentor revise su trabajo. Si tiene alguna pregunta o necesita ayuda, comuníquese con nosotros para que podamos ayudarlo. Esta tarea debe completarse para aprobar esta sección del trabajo del curso.\n",
    "\n",
    "El siguiente es un enlace a un repositorio de git que contiene el HTML y CSS de inicio para esta tarea. Copie y pegue el código inicial para que pueda seguir la tarea.https://github.com/bottegaMentor/m1c2-flexbox--assignment/tree/main \n"
   ]
  },
  {
   "cell_type": "code",
   "execution_count": null,
   "metadata": {
    "vscode": {
     "languageId": "html"
    }
   },
   "outputs": [],
   "source": [
    "<style>\n",
    "  .square {\n",
    "    width: 100px;\n",
    "    height: 100px;\n",
    "    background-color: #73dab2;\n",
    "  }\n",
    "\n",
    "  .flex {\n",
    "    margin: 10px;\n",
    "  }\n",
    "</style>\n"
   ]
  },
  {
   "cell_type": "markdown",
   "metadata": {},
   "source": [
    "Caja flexible 1: \n",
    "\n",
    "    Llame a la clase de flexOne. Utilice flexbox para colocar los elementos en el div flexOne uno al lado del otro. Agregue 5 píxeles de margen a la clase cuadrada solo cuando estén dentro de flexOne.\n",
    "\n",
    "Ejemplo:\n",
    "![Cuadricula1](ejercicio1/Cuadricula1.png)\n"
   ]
  },
  {
   "cell_type": "code",
   "execution_count": null,
   "metadata": {
    "vscode": {
     "languageId": "html"
    }
   },
   "outputs": [],
   "source": [
    "<style>\n",
    "  .flexOne {\n",
    "    display: flex;\n",
    "  }\n",
    "  .flexOne div {\n",
    "    display: flex;\n",
    "    margin: 5px;\n",
    "  }\n",
    "</style>\n"
   ]
  },
  {
   "cell_type": "markdown",
   "metadata": {},
   "source": [
    "Caja flexible 2: \n",
    "\n",
    "    Llame a la clase de flex Two. Utilice caja flexible. Establezca la dirección flexible en la columna. El valor predeterminado es fila, que coloca los elementos uno al lado del otro. La columna los vuelve a colocar uno encima del otro. Dale a los cuadrados dentro de flex Two un margen de 2 píxeles.\n",
    "\n",
    "Ejemplo:\n",
    "![Cuadricula2](ejercicio1/Cuadricula2.png)"
   ]
  },
  {
   "cell_type": "code",
   "execution_count": null,
   "metadata": {
    "vscode": {
     "languageId": "html"
    }
   },
   "outputs": [],
   "source": [
    "<style>\n",
    "  .flexTwo {\n",
    "    display: flex;\n",
    "    flex-direction: column;\n",
    "  }\n",
    "\n",
    "  .flexTwo div {\n",
    "    display: flex;\n",
    "    margin: 2px;\n",
    "  }\n",
    "</style>\n"
   ]
  },
  {
   "cell_type": "markdown",
   "metadata": {},
   "source": [
    "Caja flexible 3: \n",
    "\n",
    "    Llame a la clase de flex Three. Repita los pasos de flex Two, excepto que esta vez configura flex-direction en fila-reversa. Agregue un 1, 2 y 3 dentro de los respectivos divs cuadrados dentro de flex Three para que pueda ver cómo el orden ahora se ha invertido.\n",
    "\n",
    "Ejemplo:\n",
    "![Cuadricula3](ejercicio1/Cuadricula3.png)"
   ]
  },
  {
   "cell_type": "code",
   "execution_count": null,
   "metadata": {
    "vscode": {
     "languageId": "html"
    }
   },
   "outputs": [],
   "source": [
    "<style>\n",
    ".flexThree {\n",
    "  display: flex;\n",
    "  flex-direction: row-reverse;\n",
    "  justify-content: flex-end;\n",
    "  font-weight: bold;\n",
    "  \n",
    "}\n",
    ".flexThree div {\n",
    "    margin: 2px;\n",
    "}\n",
    "</style>"
   ]
  },
  {
   "cell_type": "markdown",
   "metadata": {},
   "source": [
    "Caja flexible 4: \n",
    "\n",
    "    Llame a la clase de flex Four. Utilice caja flexible. Establezca el ancho del div en 350 px. Dale un margen de 5px a los cuadrados dentro de flex Four. También cambie el color de fondo a #3d8b6d. Verá que el cuarto cuadrado automáticamente se ajusta hacia abajo y comienza una nueva fila porque no puede caber en los 450 píxeles con los otros cuadrados. Esto sería muy útil para un sitio web como Instagram, cuando sabes el formato que deseas para tus imágenes o publicaciones pero no sabes cuántas tendrás. Al usar flex-wrap, su código maneja automáticamente el formato de sus elementos\n",
    "\n",
    "Ejemplo:\n",
    "![Cuadricula4](ejercicio1/Cuadricula4.png)"
   ]
  },
  {
   "cell_type": "code",
   "execution_count": null,
   "metadata": {
    "vscode": {
     "languageId": "html"
    }
   },
   "outputs": [],
   "source": [
    "<style>\n",
    "  .flexFour {\n",
    "    display: flex;\n",
    "    flex-wrap: wrap;\n",
    "    width: 350px;\n",
    "  }\n",
    "\n",
    "  .flexFour .square {\n",
    "    margin: 5px;\n",
    "    background-color: #3d8b6d;\n",
    "  }\n",
    "</style>\n"
   ]
  },
  {
   "cell_type": "markdown",
   "metadata": {},
   "source": [
    "Caja flexible 5: \n",
    "\n",
    "    Llame a la clase de flex Five. Agregue un ancho de 350 px y use flexbox. Llame a la clase de elemento para los divs dentro de flex Five. Establezca el color de fondo en #0b6643. Agregue un ancho y alto de 100 px. Agrega un margen de 2px para que podamos ver los cuadrados individuales. Ahora, apunte a la identificación de \"crecer\". En la identificación, establezca flex-grow en 2. Esto hará que el espacio sobrante, que normalmente se dividiría en partes iguales entre los elementos o no se usaría mediante flex, se aplicará al elemento del medio y hará que ocupe el doble de espacio adicional. que los otros elementos.\n",
    "\n",
    "Ejemplo:\n",
    "![Cuadricula5](ejercicio1/Cuadricula5.png)\n"
   ]
  },
  {
   "cell_type": "code",
   "execution_count": null,
   "metadata": {
    "vscode": {
     "languageId": "html"
    }
   },
   "outputs": [],
   "source": [
    "<style>\n",
    "  .flexFive {\n",
    "    display: flex;\n",
    "    width: 350px;\n",
    "    flex-wrap: wrap;\n",
    "  }\n",
    "\n",
    "  .flexFive .item {\n",
    "    width: 100px;\n",
    "    height: 100px;\n",
    "    margin: 2px;\n",
    "    background-color: #0b6643;\n",
    "  }\n",
    "\n",
    "  #grow {\n",
    "    flex-grow: 2;\n",
    "  }\n",
    "</style>\n"
   ]
  },
  {
   "cell_type": "markdown",
   "metadata": {},
   "source": [
    "Caja flexible 6: \n",
    "\n",
    "    Llame a la clase de flex Six. Agregue una altura de 400 px y un ancho de 500px a flex Six. Establezca el color de fondo en #f1f1f1. Establezca la dirección flexible en columna para que los divs secundarios vuelvan a estar uno encima del otro. En cada div secundario, con las clases de uno, dos y tres, use flexbox. En uno, establezca justificar contenido en espacio alrededor. En dos, establezca justificar contenido en espacio entre y establezca el color de fondo en #d6d6d6. El color nos ayudará a ver las filas que estamos creando. En tres, establezca justificar contenido en espacio uniformemente. Ahora puedes ver las diferentes formas en que se comportan esas configuraciones de justificación de contenido.\n",
    "\n",
    "Ejemplo:\n",
    "![Cuadricula6](ejercicio1/Cuadricula6.png)\n"
   ]
  },
  {
   "cell_type": "code",
   "execution_count": null,
   "metadata": {
    "vscode": {
     "languageId": "html"
    }
   },
   "outputs": [],
   "source": [
    "<style>\n",
    "  .flexSix {\n",
    "    display: flex;\n",
    "    flex-direction: column;\n",
    "    width: 500px;\n",
    "    height: 400px;\n",
    "    background-color: #f1f1f1;\n",
    "  }\n",
    "\n",
    "  .flexSix .one {\n",
    "    margin: 10px;\n",
    "    display: flex;\n",
    "    justify-content: space-around;\n",
    "  }\n",
    "\n",
    "  .flexSix .two {\n",
    "    margin: 10px 0px;\n",
    "    display: flex;\n",
    "    justify-content: space-between;\n",
    "    background-color: #d6d6d6;\n",
    "  }\n",
    "\n",
    "  .flexSix .three {\n",
    "    margin: 10px;\n",
    "    display: flex;\n",
    "    justify-content: space-around;\n",
    "  }\n",
    "</style>\n"
   ]
  },
  {
   "cell_type": "markdown",
   "metadata": {},
   "source": [
    "Caja flexible 7: \n",
    "\n",
    "    Llame a la clase de flex Seven. Dale una altura de 400 px y un ancho de 500 px. Utilice flexbox y establezca justify-content en el espacio intermedio. Esto nos dará 4 columnas. Dejaremos la dirección flexible en la fila predeterminada y usaremos justify-content para mover los elementos de una manera diferente. En los divs del uno al cuatro, use flexbox y establezca la dirección flexible en columna para que los elementos permanezcan uno encima del otro. En el div uno, podemos configurar justificar contenido en el centro. Dos para flexionar el extremo, tres para flexionar el inicio y cuatro para el espacio intermedio. Ahora se puede ver cómo también podemos organizar elementos verticalmente usando justify-content si también configuramos flex-direction en columna.\n",
    "\n",
    "Ejemplo:\n",
    "![Cuadricula7](ejercicio1/Cuadricula7.png)\n"
   ]
  },
  {
   "cell_type": "code",
   "execution_count": null,
   "metadata": {
    "vscode": {
     "languageId": "html"
    }
   },
   "outputs": [],
   "source": [
    "<style>\n",
    "   .flexSeven {\n",
    "    display: flex;\n",
    "    height: 400px;\n",
    "    width: 500px;\n",
    "    justify-content: space-between;\n",
    "  }\n",
    "\n",
    "  .flexSeven div {\n",
    "    margin-top: 0px;\n",
    "    display: flex;\n",
    "    flex-direction: column;\n",
    "  }\n",
    "\n",
    "  .flexSeven .one {\n",
    "    justify-content: center;\n",
    "  }\n",
    "\n",
    "  .flexSeven .two {\n",
    "    justify-content: flex-end;\n",
    "    background-color: #d6d6d6;\n",
    "  }\n",
    "\n",
    "  .flexSeven .three {\n",
    "    justify-content: flex-start;\n",
    "  }\n",
    "\n",
    "  .flexSeven .four {\n",
    "    justify-content: space-between;\n",
    "    background-color: #d6d6d6;\n",
    "  }\n",
    "</style>\n"
   ]
  },
  {
   "cell_type": "markdown",
   "metadata": {},
   "source": [
    "Caja flexible 8: \n",
    "\n",
    "    Llame a la clase de flex Eight. Utilice caja flexible. Dale al div una altura de 400 px y establece el color de fondo en #eeeeee. Dale un ancho de 300px. Ahora puedes seleccionar la clase de uno dentro de flex Eight. Utilice flexbox y configure align-items al centro. Haga lo mismo con dos y configure align-items en flex-end. Configure tres para las mismas cosas y use flex-start para alinear elementos. Ahora puedes ver que alinear elementos también nos permite mover elementos verticalmente.\n",
    "\n",
    "Ejemplo:\n",
    "![Cuadricula8](ejercicio1/Cuadricula8.png)\n"
   ]
  },
  {
   "cell_type": "code",
   "execution_count": null,
   "metadata": {
    "vscode": {
     "languageId": "html"
    }
   },
   "outputs": [],
   "source": [
    "<style>\n",
    "  .flexEight {\n",
    "    display: flex;\n",
    "    height: 400px;\n",
    "    background-color: #eeeeee;\n",
    "    width: 300px;\n",
    "  }\n",
    "\n",
    "  .flexEight .one {\n",
    "    display: flex;\n",
    "    align-items: center;\n",
    "  }\n",
    "\n",
    "  .flexEight .two {\n",
    "    display: flex;\n",
    "    align-items: flex-end;\n",
    "  }\n",
    "\n",
    "  .flexEight .three {\n",
    "    display: flex;\n",
    "    align-items: flex-start;\n",
    "  }\n",
    "</style>\n"
   ]
  },
  {
   "cell_type": "markdown",
   "metadata": {},
   "source": [
    "Caja flexible 9: \n",
    "\n",
    "    Llame a la clase de flex Nine. Utilice caja flexible. Establezca el ancho en 450px y el alto en 250px. Establece el color de fondo en #eeeeee. Utilice elementos de alineación para que los elementos comiencen en la parte superior. Utilice justify-content para espaciar los elementos de manera uniforme. Ahora puede seleccionar la identificación especial. Utilice la propiedad align-self y configúrela en flex-end. De esta manera podemos anular el tercer cuadrado y hacer que comience en la parte inferior en lugar de en la parte superior.\n",
    "\n",
    "Ejemplo:\n",
    "![Cuadricula9](ejercicio1/Cuadricula9.png)\n"
   ]
  },
  {
   "cell_type": "code",
   "execution_count": null,
   "metadata": {
    "vscode": {
     "languageId": "html"
    }
   },
   "outputs": [],
   "source": [
    "<style>\n",
    "  .flexNine {\n",
    "    display: flex;\n",
    "    width: 450px;\n",
    "    height: 250px;\n",
    "    background-color: #eeeeee;\n",
    "    align-items: flex-start;\n",
    "    justify-content: space-evenly;\n",
    "  }\n",
    "\n",
    "  #special {\n",
    "    align-self: flex-end;\n",
    "  }\n",
    "</style>\n"
   ]
  }
 ],
 "metadata": {
  "language_info": {
   "name": "python"
  }
 },
 "nbformat": 4,
 "nbformat_minor": 2
}
